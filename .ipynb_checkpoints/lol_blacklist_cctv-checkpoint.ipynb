{
 "cells": [
  {
   "cell_type": "code",
   "execution_count": null,
   "metadata": {},
   "outputs": [],
   "source": [
    "from selenium import webdriver\n",
    "import time\n",
    "options = webdriver.ChromeOptions()\n",
    "# options.add_argument('headless')\n",
    "# options.add_argument('window-size=1920x1080')\n",
    "# options.add_argument(\"disable-gpu\")\n",
    "user_name_list=[]\n",
    "stream_name_list=[]\n",
    "with open('./file/cctv_user.txt','r',encoding='UTF8') as f:\n",
    "    line=f.readlines()\n",
    "    for item in line:\n",
    "        user_name_list.append(item.split('\\n')[0])   \n",
    "    \n",
    "with open('./file/stream_name.txt','r',encoding='UTF8') as f:\n",
    "    line=f.readlines()\n",
    "    for item in line:\n",
    "        stream_name_list.append(item.split('\\n')[0]) \n",
    "    \n",
    "    \n",
    "for user_name in user_name_list:\n",
    "    \n",
    "    stream_name='_'\n",
    "    driver = webdriver.Chrome('./file/chromedriver', chrome_options=options)\n",
    "\n",
    "    driver.get('https://www.op.gg/summoner/userName='+user_name)\n",
    "    driver.implicitly_wait(3)\n",
    "    driver.find_element_by_xpath('/html/body/div[2]/div[2]/div/div/div[3]/dl/dd[3]/a').click()\n",
    "    driver.implicitly_wait(2)\n",
    "    try:\n",
    "        check=driver.find_element_by_xpath('//*[@id=\"SummonerLayoutContent\"]/div[7]/div[2]/div/div[1]').text\n",
    "        print(check)\n",
    "        search = \"커스텀\"\n",
    "        if search in check:\n",
    "            print('커스텀')\n",
    "            user_all=[]\n",
    "            red=[]\n",
    "            blue=[]\n",
    "\n",
    "            for i in range(1,3):\n",
    "                for j in range(1,6):\n",
    "                    name=driver.find_element_by_xpath('/html/body/div[2]/div[2]/div/div/div[5]/div[7]/div[2]/div/div[2]/table['+str(i)+']/tbody/tr['+str(j)+']').text.split('\\n')[0]\n",
    "                    for steram in stream_name_list:\n",
    "                        if name==steram:\n",
    "                            stream_name=stream_name+name+\"_\"\n",
    "                    if i==1:\n",
    "                        blue.append(name)\n",
    "                    elif i==2:\n",
    "                        red.append(name)\n",
    "\n",
    "            user_all.append(blue)\n",
    "            user_all.append(red)\n",
    "            now = time.localtime() \n",
    "            now_time=str(now.tm_year)+'-'+str(now.tm_mon)+'-'+str(now.tm_mday)+'_'+str(now.tm_hour)+'-'+str(now.tm_min)+'-'+str(now.tm_sec)\n",
    "            file_name='./file/lol_cctv/'+now_time+'_'+user_name+stream_name+'.txt'\n",
    "            with open(file_name,'w') as f:\n",
    "\n",
    "                for item in user_all:\n",
    "\n",
    "                    f.write(str(item)+'\\n')        \n",
    "            pass\n",
    "        else:\n",
    "            print('커스텀아님')\n",
    "            pass\n",
    "\n",
    "\n",
    "\n",
    "    except Exception as e:\n",
    "\n",
    "        print(e)\n",
    "    driver.quit()"
   ]
  },
  {
   "cell_type": "code",
   "execution_count": null,
   "metadata": {},
   "outputs": [],
   "source": [
    "'히루'=='히루'.lower()"
   ]
  },
  {
   "cell_type": "code",
   "execution_count": null,
   "metadata": {
    "scrolled": true
   },
   "outputs": [],
   "source": [
    "driver.find_element_by_xpath('//*[@id=\"SummonerLayoutContent\"]/div[7]/div[2]/div/div[1]/small[2]/span').get_attribute('title').replace(\" \",\"_\")"
   ]
  },
  {
   "cell_type": "code",
   "execution_count": 1,
   "metadata": {},
   "outputs": [],
   "source": [
    "import firebase_admin\n",
    "from firebase_admin import credentials\n",
    "from firebase_admin import db\n",
    "  \n",
    "cred = credentials.Certificate('./file/lol-cctv-firebase-adminsdk-code.json')\n",
    "firebase_admin.initialize_app(cred,{'databaseURL' : 'https://database.url.com/'})\n"
   ]
  },
  {
   "cell_type": "code",
   "execution_count": 9,
   "metadata": {},
   "outputs": [],
   "source": []
  },
  {
   "cell_type": "code",
   "execution_count": 10,
   "metadata": {},
   "outputs": [],
   "source": [
    "# 벤유저추가\n",
    "ref=db.reference('user/cctv/cctv_user/')\n",
    "sterm='strem'\n",
    "data='비매너행위'\n",
    "name='NO답서폿'\n",
    "ref.update({name:{'alert_steramer':sterm,'warning_data':data,'name':name}})"
   ]
  },
  {
   "cell_type": "code",
   "execution_count": 14,
   "metadata": {},
   "outputs": [],
   "source": [
    "# 스트리머 추가\n",
    "ref=db.reference('user/cctv/steram_user/')\n",
    "twitch_name='sterm'\n",
    "name='sterm'\n",
    "ref.update({name:{'twitch_name':twitch_name,'name':name}})"
   ]
  },
  {
   "cell_type": "code",
   "execution_count": null,
   "metadata": {},
   "outputs": [],
   "source": [
    "\n",
    "\n",
    "\n",
    " "
   ]
  },
  {
   "cell_type": "code",
   "execution_count": null,
   "metadata": {},
   "outputs": [],
   "source": []
  }
 ],
 "metadata": {
  "kernelspec": {
   "display_name": "Python 3",
   "language": "python",
   "name": "python3"
  },
  "language_info": {
   "codemirror_mode": {
    "name": "ipython",
    "version": 3
   },
   "file_extension": ".py",
   "mimetype": "text/x-python",
   "name": "python",
   "nbconvert_exporter": "python",
   "pygments_lexer": "ipython3",
   "version": "3.8.3"
  }
 },
 "nbformat": 4,
 "nbformat_minor": 4
}
